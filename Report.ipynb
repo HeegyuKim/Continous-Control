{
 "cells": [
  {
   "cell_type": "markdown",
   "metadata": {},
   "source": [
    "# Continuous Control\n",
    "\n",
    "---\n",
    "\n",
    "You are welcome to use this coding environment to train your agent for the project.  Follow the instructions below to get started!\n",
    "\n",
    "### 1. Start the Environment\n",
    "\n",
    "Run the next code cell to install a few packages.  This line will take a few minutes to run!"
   ]
  },
  {
   "cell_type": "code",
   "execution_count": 1,
   "metadata": {},
   "outputs": [
    {
     "name": "stdout",
     "output_type": "stream",
     "text": [
      "\u001b[31mtensorflow 1.7.1 has requirement numpy>=1.13.3, but you'll have numpy 1.12.1 which is incompatible.\u001b[0m\r\n",
      "\u001b[31mipython 6.5.0 has requirement prompt-toolkit<2.0.0,>=1.0.15, but you'll have prompt-toolkit 3.0.6 which is incompatible.\u001b[0m\r\n"
     ]
    }
   ],
   "source": [
    "# !pip -q install ./python\n",
    "!pip install numpy matplotlib unityagents torch"
   ]
  },
  {
   "cell_type": "code",
   "execution_count": 2,
   "metadata": {},
   "outputs": [],
   "source": [
    "import torch\n",
    "import torch.nn as nn\n",
    "import torch.nn.functional as F\n",
    "import torch.optim as optim\n",
    "import numpy as np\n",
    "import matplotlib.pyplot as plt\n",
    "import random\n",
    "import copy\n",
    "import time\n",
    "from collections import namedtuple, deque\n",
    "%matplotlib inline"
   ]
  },
  {
   "cell_type": "markdown",
   "metadata": {},
   "source": [
    "The environments corresponding to both versions of the environment are already saved in the Workspace and can be accessed at the file paths provided below.  \n",
    "\n",
    "Please select one of the two options below for loading the environment."
   ]
  },
  {
   "cell_type": "code",
   "execution_count": 3,
   "metadata": {},
   "outputs": [
    {
     "name": "stderr",
     "output_type": "stream",
     "text": [
      "INFO:unityagents:\n",
      "'Academy' started successfully!\n",
      "Unity Academy name: Academy\n",
      "        Number of Brains: 1\n",
      "        Number of External Brains : 1\n",
      "        Lesson number : 0\n",
      "        Reset Parameters :\n",
      "\t\tgoal_speed -> 1.0\n",
      "\t\tgoal_size -> 5.0\n",
      "Unity brain name: ReacherBrain\n",
      "        Number of Visual Observations (per agent): 0\n",
      "        Vector Observation space type: continuous\n",
      "        Vector Observation space size (per agent): 33\n",
      "        Number of stacked Vector Observation: 1\n",
      "        Vector Action space type: continuous\n",
      "        Vector Action space size (per agent): 4\n",
      "        Vector Action descriptions: , , , \n"
     ]
    }
   ],
   "source": [
    "from unityagents import UnityEnvironment\n",
    "# select this option to load version 1 (with a single agent) of the environment\n",
    "# env = UnityEnvironment(file_name='/data/Reacher_One_Linux_NoVis/Reacher_One_Linux_NoVis.x86_64')\n",
    "\n",
    "# select this option to load version 2 (with 20 agents) of the environment\n",
    "env = UnityEnvironment(file_name='/data/Reacher_Linux_NoVis/Reacher.x86_64')"
   ]
  },
  {
   "cell_type": "markdown",
   "metadata": {},
   "source": [
    "Environments contain **_brains_** which are responsible for deciding the actions of their associated agents. Here we check for the first brain available, and set it as the default brain we will be controlling from Python."
   ]
  },
  {
   "cell_type": "code",
   "execution_count": 4,
   "metadata": {},
   "outputs": [
    {
     "data": {
      "text/plain": [
       "'ReacherBrain'"
      ]
     },
     "execution_count": 4,
     "metadata": {},
     "output_type": "execute_result"
    }
   ],
   "source": [
    "# get the default brain\n",
    "brain_name = env.brain_names[0]\n",
    "brain = env.brains[brain_name]\n",
    "brain_name"
   ]
  },
  {
   "cell_type": "markdown",
   "metadata": {},
   "source": [
    "### 2. Examine the State and Action Spaces\n",
    "\n",
    "Run the code cell below to print some information about the environment."
   ]
  },
  {
   "cell_type": "code",
   "execution_count": 5,
   "metadata": {},
   "outputs": [
    {
     "name": "stdout",
     "output_type": "stream",
     "text": [
      "Number of agents: 20\n",
      "Size of each action: 4\n",
      "There are 20 agents. Each observes a state with length: 33\n",
      "The state for the first agent looks like: [  0.00000000e+00  -4.00000000e+00   0.00000000e+00   1.00000000e+00\n",
      "  -0.00000000e+00  -0.00000000e+00  -4.37113883e-08   0.00000000e+00\n",
      "   0.00000000e+00   0.00000000e+00   0.00000000e+00   0.00000000e+00\n",
      "   0.00000000e+00   0.00000000e+00  -1.00000000e+01   0.00000000e+00\n",
      "   1.00000000e+00  -0.00000000e+00  -0.00000000e+00  -4.37113883e-08\n",
      "   0.00000000e+00   0.00000000e+00   0.00000000e+00   0.00000000e+00\n",
      "   0.00000000e+00   0.00000000e+00   5.75471878e+00  -1.00000000e+00\n",
      "   5.55726624e+00   0.00000000e+00   1.00000000e+00   0.00000000e+00\n",
      "  -1.68164849e-01]\n"
     ]
    }
   ],
   "source": [
    "# reset the environment\n",
    "env_info = env.reset(train_mode=True)[brain_name]\n",
    "\n",
    "# number of agents\n",
    "num_agents = len(env_info.agents)\n",
    "print('Number of agents:', num_agents)\n",
    "\n",
    "# size of each action\n",
    "action_size = brain.vector_action_space_size\n",
    "print('Size of each action:', action_size)\n",
    "\n",
    "# examine the state space \n",
    "states = env_info.vector_observations\n",
    "state_size = states.shape[1]\n",
    "print('There are {} agents. Each observes a state with length: {}'.format(states.shape[0], state_size))\n",
    "print('The state for the first agent looks like:', states[0])"
   ]
  },
  {
   "cell_type": "markdown",
   "metadata": {},
   "source": [
    "## Hyperparameters"
   ]
  },
  {
   "cell_type": "code",
   "execution_count": 6,
   "metadata": {},
   "outputs": [
    {
     "data": {
      "text/plain": [
       "device(type='cpu')"
      ]
     },
     "execution_count": 6,
     "metadata": {},
     "output_type": "execute_result"
    }
   ],
   "source": [
    "GAMMA = 0.99            # discount factor\n",
    "TAU = 1e-3              # for soft update of target parameters\n",
    "LR_ACTOR = 1e-3         # learning rate of the actor \n",
    "LR_CRITIC = 1e-3        # learning rate of the critic\n",
    "WEIGHT_DECAY = 0.0000     # L2 weight decay\n",
    "BATCH_SIZE = 1024         # minibatch size\n",
    "BUFFER_SIZE = int(1e6)  # replay buffer size\n",
    "\n",
    "device = torch.device(\"cuda:0\" if torch.cuda.is_available() else \"cpu\")"
   ]
  },
  {
   "cell_type": "markdown",
   "metadata": {},
   "source": [
    "## Experience Replay with Replay Buffer\n",
    "Experience Replay is that save the experience(states, actions, rewards and next states in episodes) to Replay buffer. Therefore get a random samples to learn from saved experience. So we can learn the agent from much more experiences."
   ]
  },
  {
   "cell_type": "code",
   "execution_count": 7,
   "metadata": {},
   "outputs": [],
   "source": [
    "class ReplayBuffer:\n",
    "    \"\"\"Fixed-size buffer to store experience tuples.\"\"\"\n",
    "\n",
    "    def __init__(self, action_size, buffer_size, batch_size, seed):\n",
    "        \"\"\"Initialize a ReplayBuffer object.\n",
    "        Params\n",
    "        ======\n",
    "            buffer_size (int): maximum size of buffer\n",
    "            batch_size (int): size of each training batch\n",
    "        \"\"\"\n",
    "        self.action_size = action_size\n",
    "        self.memory = deque(maxlen=buffer_size)  # internal memory (deque)\n",
    "        self.batch_size = batch_size\n",
    "        self.experience = namedtuple(\"Experience\", field_names=[\"state\", \"action\", \"reward\", \"next_state\", \"done\"])\n",
    "        self.seed = random.seed(seed)\n",
    "    \n",
    "    def add(self, state, action, reward, next_state, done):\n",
    "        \"\"\"Add a new experience to memory.\"\"\"\n",
    "        e = self.experience(state, action, reward, next_state, done)\n",
    "        self.memory.append(e)\n",
    "    \n",
    "    def sample(self):\n",
    "        \"\"\"Randomly sample a batch of experiences from memory.\"\"\"\n",
    "        experiences = random.sample(self.memory, k=self.batch_size)\n",
    "\n",
    "        states = torch.from_numpy(np.vstack([e.state for e in experiences if e is not None])).float().to(device)\n",
    "        actions = torch.from_numpy(np.vstack([e.action for e in experiences if e is not None])).float().to(device)\n",
    "        rewards = torch.from_numpy(np.vstack([e.reward for e in experiences if e is not None])).float().to(device)\n",
    "        next_states = torch.from_numpy(np.vstack([e.next_state for e in experiences if e is not None])).float().to(device)\n",
    "        dones = torch.from_numpy(np.vstack([e.done for e in experiences if e is not None]).astype(np.uint8)).float().to(device)\n",
    "\n",
    "        return (states, actions, rewards, next_states, dones)\n",
    "\n",
    "    def __len__(self):\n",
    "        \"\"\"Return the current size of internal memory.\"\"\"\n",
    "        return len(self.memory)"
   ]
  },
  {
   "cell_type": "markdown",
   "metadata": {},
   "source": [
    "## Actor/Critic Network\n",
    "Actor and Critic network is simple fully-connected network. Key points are that batch normalization and critic's action input is concatenated with first layer's output and take into second layer's input."
   ]
  },
  {
   "cell_type": "code",
   "execution_count": 8,
   "metadata": {
    "scrolled": true
   },
   "outputs": [],
   "source": [
    "def hidden_init(layer):\n",
    "    fan_in = layer.weight.data.size()[0]\n",
    "    lim = 1. / np.sqrt(fan_in)\n",
    "    return (-lim, lim)\n",
    "\n",
    "class Actor(nn.Module):\n",
    "    \"\"\"Actor (Policy) Model.\"\"\"\n",
    "\n",
    "    def __init__(self, state_size, action_size, seed, fc1_units=400, fc2_units=300):\n",
    "        \"\"\"Initialize parameters and build model.\n",
    "        Params\n",
    "        ======\n",
    "            state_size (int): Dimension of each state\n",
    "            action_size (int): Dimension of each action\n",
    "            seed (int): Random seed\n",
    "            fc1_units (int): Number of nodes in first hidden layer\n",
    "            fc2_units (int): Number of nodes in second hidden layer\n",
    "        \"\"\"\n",
    "        super(Actor, self).__init__()\n",
    "        self.seed = torch.manual_seed(seed)\n",
    "        self.fc1 = nn.Linear(state_size, fc1_units)\n",
    "        self.bn1 = nn.BatchNorm1d(fc1_units)\n",
    "        self.fc2 = nn.Linear(fc1_units, fc2_units)\n",
    "        self.fc3 = nn.Linear(fc2_units, action_size)\n",
    "        self.reset_parameters()\n",
    "\n",
    "    def reset_parameters(self):\n",
    "        self.fc1.weight.data.uniform_(*hidden_init(self.fc1))\n",
    "        self.fc2.weight.data.uniform_(*hidden_init(self.fc2))\n",
    "        self.fc3.weight.data.uniform_(-3e-3, 3e-3)\n",
    "\n",
    "    def forward(self, state):\n",
    "        \"\"\"Build an actor (policy) network that maps states -> actions.\"\"\"\n",
    "        x = self.fc1(state)\n",
    "        if num_agents > 1:\n",
    "            x = self.bn1(x)\n",
    "        x = F.relu(x)\n",
    "        x = F.relu(self.fc2(x))\n",
    "        return F.tanh(self.fc3(x))\n",
    "\n",
    "\n",
    "class Critic(nn.Module):\n",
    "    \"\"\"Critic (Value) Model.\"\"\"\n",
    "\n",
    "    def __init__(self, state_size, action_size, seed, fcs1_units=400, fc2_units=300):\n",
    "        \"\"\"Initialize parameters and build model.\n",
    "        Params\n",
    "        ======\n",
    "            state_size (int): Dimension of each state\n",
    "            action_size (int): Dimension of each action\n",
    "            seed (int): Random seed\n",
    "            fcs1_units (int): Number of nodes in the first hidden layer\n",
    "            fc2_units (int): Number of nodes in the second hidden layer\n",
    "        \"\"\"\n",
    "        super(Critic, self).__init__()\n",
    "        self.seed = torch.manual_seed(seed)\n",
    "        self.fcs1 = nn.Linear(state_size, fcs1_units)\n",
    "        self.bn1 = nn.BatchNorm1d(fcs1_units)\n",
    "        self.fc2 = nn.Linear(fcs1_units+action_size, fc2_units)\n",
    "        self.fc3 = nn.Linear(fc2_units, 1)\n",
    "        self.reset_parameters()\n",
    "\n",
    "    def reset_parameters(self):\n",
    "        self.fcs1.weight.data.uniform_(*hidden_init(self.fcs1))\n",
    "        self.fc2.weight.data.uniform_(*hidden_init(self.fc2))\n",
    "        self.fc3.weight.data.uniform_(-3e-3, 3e-3)\n",
    "\n",
    "    def forward(self, state, action):\n",
    "        \"\"\"Build a critic (value) network that maps (state, action) pairs -> Q-values.\"\"\"\n",
    "        xs = self.fcs1(state)\n",
    "        if num_agents > 1:\n",
    "            self.bn1(xs)\n",
    "        xs = F.relu(xs)\n",
    "        \n",
    "        x = torch.cat((xs, action), dim=1)\n",
    "        x = F.relu(self.fc2(x))\n",
    "        return self.fc3(x)"
   ]
  },
  {
   "cell_type": "markdown",
   "metadata": {},
   "source": [
    "## Ornstein-Uhlenbeck Noise\n",
    "add a noise for the action. In before processes, we use epsilon-greedy to explore the environment. But this method cannot be applied to policy based methods. Instead we choose that add a noise to the action."
   ]
  },
  {
   "cell_type": "code",
   "execution_count": null,
   "metadata": {},
   "outputs": [],
   "source": [
    "class OUNoise:\n",
    "    \"\"\"Ornstein-Uhlenbeck process.\"\"\"\n",
    "\n",
    "    def __init__(self, size, seed, mu=0., theta=0.15, sigma=0.2):\n",
    "        \"\"\"Initialize parameters and noise process.\"\"\"\n",
    "        self.mu = mu * np.ones(size)\n",
    "        self.theta = theta\n",
    "        self.sigma = sigma\n",
    "        self.seed = random.seed(seed)\n",
    "        self.reset()\n",
    "\n",
    "    def reset(self):\n",
    "        \"\"\"Reset the internal state (= noise) to mean (mu).\"\"\"\n",
    "        self.state = copy.copy(self.mu)\n",
    "\n",
    "    def sample(self):\n",
    "        \"\"\"Update internal state and return it as a noise sample.\"\"\"\n",
    "        x = self.state\n",
    "        dx = self.theta * (self.mu - x) + self.sigma * np.array([np.random.randn() for i in range(len(x))])\n",
    "        self.state = x + dx\n",
    "        return self.state"
   ]
  },
  {
   "cell_type": "markdown",
   "metadata": {},
   "source": [
    "## DDPG\n",
    "DDPG(Deep Deterministic Policy Gradients) is model-free, off-policy actor-critic algorithm, based on Deep Deterministic Policy(DPG). \n",
    "DDPG uses below methods\n",
    "- replay buffer for online batch update\n",
    "- soft target-update every N steps\n",
    "- batch normalization for feature scaling\n",
    "- noise process for the exploration\n",
    "\n",
    "<img src=\"https://www.dropbox.com/s/fd0nj7goixfnd6z/Screenshot%202018-06-23%2018.02.13.png?dl=1\" />\n"
   ]
  },
  {
   "cell_type": "code",
   "execution_count": 9,
   "metadata": {},
   "outputs": [],
   "source": [
    "class DDPGAgent():\n",
    "    \"\"\"Interacts with and learns from the environment.\"\"\"\n",
    "    \n",
    "    def __init__(self, state_size, action_size, random_seed):\n",
    "        \"\"\"Initialize an Agent object.\n",
    "        \n",
    "        Params\n",
    "        ======\n",
    "            state_size (int): dimension of each state\n",
    "            action_size (int): dimension of each action\n",
    "            random_seed (int): random seed\n",
    "        \"\"\"\n",
    "        self.state_size = state_size\n",
    "        self.action_size = action_size\n",
    "        self.seed = random.seed(random_seed)\n",
    "        \n",
    "        # Actor Network (w/ Target Network)\n",
    "        self.actor_local = Actor(state_size, action_size, random_seed).to(device)\n",
    "        self.actor_target = Actor(state_size, action_size, random_seed).to(device)\n",
    "        self.actor_optimizer = optim.Adam(self.actor_local.parameters(), lr=LR_ACTOR)\n",
    "\n",
    "        # Critic Network (w/ Target Network)\n",
    "        self.critic_local = Critic(state_size, action_size, random_seed).to(device)\n",
    "        self.critic_target = Critic(state_size, action_size, random_seed).to(device)\n",
    "        self.critic_optimizer = optim.Adam(self.critic_local.parameters(), lr=LR_CRITIC, weight_decay=WEIGHT_DECAY)\n",
    "\n",
    "        # Noise process\n",
    "        self.noise = OUNoise(action_size, random_seed)\n",
    "        \n",
    "        # Replay memory\n",
    "        self.memory = ReplayBuffer(action_size, BUFFER_SIZE, BATCH_SIZE, random_seed)\n",
    "    \n",
    "    def step(self, state, action, reward, next_state, done):\n",
    "        \"\"\"Save experience in replay memory, and use random sample from buffer to learn.\"\"\"\n",
    "        self.memory.add(state, action, reward, next_state, done)\n",
    "\n",
    "    def act(self, state, add_noise=True):\n",
    "        \"\"\"Returns actions for given state as per current policy.\"\"\"\n",
    "        state = torch.from_numpy(state).float().to(device)\n",
    "        \n",
    "        self.actor_local.eval()\n",
    "        with torch.no_grad():\n",
    "            action = self.actor_local(state).cpu().data.numpy()\n",
    "        self.actor_local.train()\n",
    "        \n",
    "        if add_noise:\n",
    "            action += self.noise.sample()\n",
    "            \n",
    "        # clip to action range(-1 ~ 1)\n",
    "        return np.clip(action, -1, 1)\n",
    "\n",
    "    def reset(self):\n",
    "        self.noise.reset()\n",
    "\n",
    "    def start_learn(self):\n",
    "        if len(self.memory) > BATCH_SIZE:\n",
    "            experiences = self.memory.sample()\n",
    "            self.learn(experiences, GAMMA)\n",
    "        \n",
    "    def learn(self, experiences, gamma):\n",
    "        \"\"\"Update policy and value parameters using given batch of experience tuples.\n",
    "        Q_targets = r + γ * critic_target(next_state, actor_target(next_state))\n",
    "        where:\n",
    "            actor_target(state) -> action\n",
    "            critic_target(state, action) -> Q-value\n",
    "        Params\n",
    "        ======\n",
    "            experiences (Tuple[torch.Tensor]): tuple of (s, a, r, s', done) tuples \n",
    "            gamma (float): discount factor\n",
    "        \"\"\"\n",
    "        states, actions, rewards, next_states, dones = experiences\n",
    "\n",
    "        # ---------------------------- update critic ---------------------------- #\n",
    "        # Get predicted next-state actions and Q values from target models\n",
    "        actions_next = self.actor_target(next_states)\n",
    "        Q_targets_next = self.critic_target(next_states, actions_next)\n",
    "        # Compute Q targets for current states (y_i)\n",
    "        Q_targets = rewards + (gamma * Q_targets_next * (1 - dones))\n",
    "        # Compute critic loss\n",
    "        Q_expected = self.critic_local(states, actions)\n",
    "        critic_loss = F.mse_loss(Q_expected, Q_targets)\n",
    "        # Minimize the loss\n",
    "        self.critic_optimizer.zero_grad()\n",
    "        critic_loss.backward()\n",
    "        # clip grad for stable learning\n",
    "        torch.nn.utils.clip_grad_norm(self.critic_local.parameters(), 1)\n",
    "        self.critic_optimizer.step()\n",
    "\n",
    "        # ---------------------------- update actor ---------------------------- #\n",
    "        # Compute actor loss\n",
    "        actions_pred = self.actor_local(states)\n",
    "        actor_loss = -self.critic_local(states, actions_pred).mean()\n",
    "        \n",
    "        # Minimize the loss\n",
    "        self.actor_optimizer.zero_grad()\n",
    "        actor_loss.backward()\n",
    "        self.actor_optimizer.step()\n",
    "\n",
    "        # ----------------------- update target networks ----------------------- #\n",
    "        self.soft_update(self.critic_local, self.critic_target, TAU)\n",
    "        self.soft_update(self.actor_local, self.actor_target, TAU)                     \n",
    "\n",
    "    def soft_update(self, local_model, target_model, tau):\n",
    "        \"\"\"Soft update model parameters.\n",
    "        θ_target = τ*θ_local + (1 - τ)*θ_target\n",
    "        Params\n",
    "        ======\n",
    "            local_model: PyTorch model (weights will be copied from)\n",
    "            target_model: PyTorch model (weights will be copied to)\n",
    "            tau (float): interpolation parameter \n",
    "        \"\"\"\n",
    "        for target_param, local_param in zip(target_model.parameters(), local_model.parameters()):\n",
    "            target_param.data.copy_(tau*local_param.data + (1.0-tau)*target_param.data)"
   ]
  },
  {
   "cell_type": "code",
   "execution_count": 10,
   "metadata": {
    "scrolled": true
   },
   "outputs": [],
   "source": [
    "random_seed = 7\n",
    "train_mode = True\n",
    "\n",
    "agent = Agent(state_size=state_size, action_size=action_size, random_seed=random_seed)"
   ]
  },
  {
   "cell_type": "code",
   "execution_count": 11,
   "metadata": {},
   "outputs": [
    {
     "name": "stderr",
     "output_type": "stream",
     "text": [
      "/opt/conda/lib/python3.6/site-packages/ipykernel_launcher.py:94: UserWarning: torch.nn.utils.clip_grad_norm is now deprecated in favor of torch.nn.utils.clip_grad_norm_.\n"
     ]
    },
    {
     "name": "stdout",
     "output_type": "stream",
     "text": [
      "Episode 1\tTotal Average Score: 0.26\tMean: 0.26\tMin: 0.00\tMax: 0.69\tDuration: 70.02\n",
      "Episode 2\tTotal Average Score: 0.19\tMean: 0.12\tMin: 0.00\tMax: 0.66\tDuration: 73.76\n",
      "Episode 3\tTotal Average Score: 0.21\tMean: 0.26\tMin: 0.00\tMax: 0.75\tDuration: 73.46\n",
      "Episode 4\tTotal Average Score: 0.21\tMean: 0.20\tMin: 0.00\tMax: 0.72\tDuration: 74.17\n",
      "Episode 5\tTotal Average Score: 0.25\tMean: 0.42\tMin: 0.00\tMax: 1.03\tDuration: 75.87\n",
      "Episode 6\tTotal Average Score: 0.38\tMean: 1.05\tMin: 0.15\tMax: 1.86\tDuration: 76.85\n",
      "Episode 7\tTotal Average Score: 0.49\tMean: 1.12\tMin: 0.40\tMax: 1.91\tDuration: 76.45\n",
      "Episode 8\tTotal Average Score: 0.60\tMean: 1.39\tMin: 0.30\tMax: 2.70\tDuration: 76.47\n",
      "Episode 9\tTotal Average Score: 0.66\tMean: 1.09\tMin: 0.24\tMax: 2.11\tDuration: 76.34\n",
      "Episode 10\tTotal Average Score: 0.70\tMean: 1.15\tMin: 0.27\tMax: 2.02\tDuration: 77.16\n",
      "Episode 10\tTotal Average Score: 0.70\n",
      "Episode 11\tTotal Average Score: 0.78\tMean: 1.54\tMin: 0.42\tMax: 2.66\tDuration: 76.78\n",
      "Episode 12\tTotal Average Score: 0.87\tMean: 1.85\tMin: 0.81\tMax: 3.32\tDuration: 77.61\n",
      "Episode 13\tTotal Average Score: 0.96\tMean: 2.10\tMin: 0.36\tMax: 3.94\tDuration: 77.61\n",
      "Episode 14\tTotal Average Score: 1.11\tMean: 2.97\tMin: 0.97\tMax: 4.95\tDuration: 78.30\n",
      "Episode 15\tTotal Average Score: 1.26\tMean: 3.45\tMin: 0.47\tMax: 7.03\tDuration: 78.65\n",
      "Episode 16\tTotal Average Score: 1.45\tMean: 4.25\tMin: 0.85\tMax: 7.40\tDuration: 79.14\n",
      "Episode 17\tTotal Average Score: 1.66\tMean: 5.01\tMin: 1.95\tMax: 7.01\tDuration: 80.02\n",
      "Episode 18\tTotal Average Score: 1.89\tMean: 5.78\tMin: 1.86\tMax: 9.09\tDuration: 80.93\n",
      "Episode 19\tTotal Average Score: 2.20\tMean: 7.78\tMin: 3.24\tMax: 12.45\tDuration: 81.28\n",
      "Episode 20\tTotal Average Score: 2.49\tMean: 7.97\tMin: 2.44\tMax: 13.52\tDuration: 82.39\n",
      "Episode 20\tTotal Average Score: 2.49\n",
      "Episode 21\tTotal Average Score: 2.90\tMean: 11.21\tMin: 5.45\tMax: 16.34\tDuration: 83.79\n",
      "Episode 22\tTotal Average Score: 3.34\tMean: 12.42\tMin: 2.51\tMax: 21.58\tDuration: 84.83\n",
      "Episode 23\tTotal Average Score: 3.90\tMean: 16.37\tMin: 9.14\tMax: 30.48\tDuration: 85.51\n",
      "Episode 24\tTotal Average Score: 4.42\tMean: 16.36\tMin: 6.04\tMax: 26.13\tDuration: 86.18\n",
      "Episode 25\tTotal Average Score: 4.95\tMean: 17.50\tMin: 9.74\tMax: 25.99\tDuration: 87.02\n",
      "Episode 26\tTotal Average Score: 5.64\tMean: 23.06\tMin: 12.45\tMax: 33.42\tDuration: 88.76\n",
      "Episode 27\tTotal Average Score: 6.42\tMean: 26.63\tMin: 13.74\tMax: 36.90\tDuration: 88.69\n",
      "Episode 28\tTotal Average Score: 7.20\tMean: 28.40\tMin: 19.12\tMax: 39.16\tDuration: 90.32\n",
      "Episode 29\tTotal Average Score: 7.96\tMean: 29.01\tMin: 23.73\tMax: 37.61\tDuration: 91.34\n",
      "Episode 30\tTotal Average Score: 8.66\tMean: 29.04\tMin: 19.72\tMax: 37.26\tDuration: 91.73\n",
      "Episode 30\tTotal Average Score: 8.66\n",
      "Episode 31\tTotal Average Score: 9.43\tMean: 32.61\tMin: 25.11\tMax: 38.76\tDuration: 92.63\n",
      "Episode 32\tTotal Average Score: 10.19\tMean: 33.72\tMin: 28.20\tMax: 38.67\tDuration: 94.59\n",
      "Episode 33\tTotal Average Score: 10.99\tMean: 36.67\tMin: 32.48\tMax: 39.22\tDuration: 95.17\n",
      "Episode 34\tTotal Average Score: 11.73\tMean: 36.16\tMin: 30.93\tMax: 39.62\tDuration: 96.17\n",
      "Episode 35\tTotal Average Score: 12.46\tMean: 37.01\tMin: 32.83\tMax: 39.22\tDuration: 97.75\n",
      "Episode 36\tTotal Average Score: 13.10\tMean: 35.83\tMin: 29.88\tMax: 38.59\tDuration: 98.12\n",
      "Episode 37\tTotal Average Score: 13.79\tMean: 38.60\tMin: 36.41\tMax: 39.54\tDuration: 98.94\n",
      "Episode 38\tTotal Average Score: 14.42\tMean: 37.41\tMin: 34.95\tMax: 38.80\tDuration: 100.59\n",
      "Episode 39\tTotal Average Score: 15.03\tMean: 38.44\tMin: 36.95\tMax: 39.39\tDuration: 101.69\n",
      "Episode 40\tTotal Average Score: 15.61\tMean: 38.09\tMin: 36.37\tMax: 39.56\tDuration: 102.08\n",
      "Episode 40\tTotal Average Score: 15.61\n",
      "Episode 41\tTotal Average Score: 16.16\tMean: 38.42\tMin: 36.36\tMax: 39.61\tDuration: 102.86\n",
      "Episode 42\tTotal Average Score: 16.71\tMean: 38.89\tMin: 38.11\tMax: 39.53\tDuration: 103.62\n",
      "Episode 43\tTotal Average Score: 17.20\tMean: 37.77\tMin: 36.33\tMax: 38.97\tDuration: 104.23\n",
      "Episode 44\tTotal Average Score: 17.69\tMean: 38.95\tMin: 37.57\tMax: 39.53\tDuration: 105.24\n",
      "Episode 45\tTotal Average Score: 18.15\tMean: 38.37\tMin: 34.96\tMax: 39.51\tDuration: 105.80\n",
      "Episode 46\tTotal Average Score: 18.60\tMean: 38.99\tMin: 37.35\tMax: 39.62\tDuration: 103.12\n",
      "Episode 47\tTotal Average Score: 19.03\tMean: 38.91\tMin: 37.94\tMax: 39.58\tDuration: 106.89\n",
      "Episode 48\tTotal Average Score: 19.45\tMean: 38.78\tMin: 35.99\tMax: 39.54\tDuration: 110.44\n",
      "Episode 49\tTotal Average Score: 19.85\tMean: 39.34\tMin: 37.77\tMax: 39.62\tDuration: 110.37\n",
      "Episode 50\tTotal Average Score: 20.21\tMean: 37.81\tMin: 36.62\tMax: 39.09\tDuration: 111.89\n",
      "Episode 50\tTotal Average Score: 20.21\n",
      "Episode 51\tTotal Average Score: 20.58\tMean: 39.06\tMin: 37.79\tMax: 39.64\tDuration: 111.90\n",
      "Episode 52\tTotal Average Score: 20.94\tMean: 39.43\tMin: 38.90\tMax: 39.60\tDuration: 111.64\n",
      "Episode 53\tTotal Average Score: 21.28\tMean: 38.69\tMin: 37.38\tMax: 39.64\tDuration: 114.09\n",
      "Episode 54\tTotal Average Score: 21.60\tMean: 38.81\tMin: 37.76\tMax: 39.48\tDuration: 115.58\n",
      "Episode 55\tTotal Average Score: 21.92\tMean: 39.01\tMin: 38.12\tMax: 39.63\tDuration: 115.50\n",
      "Episode 56\tTotal Average Score: 22.22\tMean: 38.99\tMin: 36.39\tMax: 39.58\tDuration: 115.61\n",
      "Episode 57\tTotal Average Score: 22.51\tMean: 38.77\tMin: 36.83\tMax: 39.59\tDuration: 115.19\n",
      "Episode 58\tTotal Average Score: 22.80\tMean: 39.11\tMin: 38.02\tMax: 39.56\tDuration: 116.06\n",
      "Episode 59\tTotal Average Score: 23.05\tMean: 37.36\tMin: 35.93\tMax: 38.99\tDuration: 115.97\n",
      "Episode 60\tTotal Average Score: 23.31\tMean: 38.66\tMin: 36.48\tMax: 39.62\tDuration: 115.94\n",
      "Episode 60\tTotal Average Score: 23.31\n",
      "Episode 61\tTotal Average Score: 23.56\tMean: 38.88\tMin: 37.99\tMax: 39.56\tDuration: 115.92\n",
      "Episode 62\tTotal Average Score: 23.80\tMean: 38.57\tMin: 37.58\tMax: 39.49\tDuration: 115.91\n",
      "Episode 63\tTotal Average Score: 24.04\tMean: 38.77\tMin: 37.84\tMax: 39.55\tDuration: 116.12\n",
      "Episode 64\tTotal Average Score: 24.26\tMean: 37.70\tMin: 35.88\tMax: 39.06\tDuration: 116.02\n",
      "Episode 65\tTotal Average Score: 24.48\tMean: 39.02\tMin: 38.07\tMax: 39.54\tDuration: 115.79\n",
      "Episode 66\tTotal Average Score: 24.69\tMean: 38.35\tMin: 36.97\tMax: 39.51\tDuration: 115.61\n",
      "Episode 67\tTotal Average Score: 24.91\tMean: 39.12\tMin: 38.24\tMax: 39.53\tDuration: 114.63\n",
      "Episode 68\tTotal Average Score: 25.11\tMean: 38.82\tMin: 37.91\tMax: 39.45\tDuration: 115.28\n",
      "Episode 69\tTotal Average Score: 25.30\tMean: 38.34\tMin: 37.12\tMax: 39.51\tDuration: 115.30\n",
      "Episode 70\tTotal Average Score: 25.50\tMean: 39.21\tMin: 38.76\tMax: 39.61\tDuration: 115.45\n",
      "Episode 70\tTotal Average Score: 25.50\n",
      "Episode 71\tTotal Average Score: 25.69\tMean: 38.83\tMin: 37.54\tMax: 39.41\tDuration: 115.62\n",
      "Episode 72\tTotal Average Score: 25.87\tMean: 38.65\tMin: 37.52\tMax: 39.33\tDuration: 116.15\n",
      "Episode 73\tTotal Average Score: 26.05\tMean: 38.70\tMin: 36.63\tMax: 39.65\tDuration: 115.93\n",
      "Episode 74\tTotal Average Score: 26.22\tMean: 39.14\tMin: 38.31\tMax: 39.65\tDuration: 115.50\n",
      "Episode 75\tTotal Average Score: 26.39\tMean: 38.75\tMin: 37.45\tMax: 39.50\tDuration: 115.22\n",
      "Episode 76\tTotal Average Score: 26.55\tMean: 38.87\tMin: 37.85\tMax: 39.49\tDuration: 115.56\n",
      "Episode 77\tTotal Average Score: 26.72\tMean: 39.25\tMin: 38.55\tMax: 39.58\tDuration: 115.54\n",
      "Episode 78\tTotal Average Score: 26.87\tMean: 38.48\tMin: 36.12\tMax: 39.49\tDuration: 115.44\n",
      "Episode 79\tTotal Average Score: 27.03\tMean: 39.09\tMin: 36.85\tMax: 39.57\tDuration: 115.73\n",
      "Episode 80\tTotal Average Score: 27.17\tMean: 38.80\tMin: 37.66\tMax: 39.64\tDuration: 116.13\n",
      "Episode 80\tTotal Average Score: 27.17\n",
      "Episode 81\tTotal Average Score: 27.31\tMean: 38.51\tMin: 37.00\tMax: 39.34\tDuration: 115.82\n",
      "Episode 82\tTotal Average Score: 27.46\tMean: 39.03\tMin: 37.87\tMax: 39.60\tDuration: 115.68\n",
      "Episode 83\tTotal Average Score: 27.59\tMean: 38.67\tMin: 36.72\tMax: 39.62\tDuration: 116.72\n",
      "Episode 84\tTotal Average Score: 27.72\tMean: 38.46\tMin: 37.20\tMax: 39.36\tDuration: 116.23\n",
      "Episode 85\tTotal Average Score: 27.84\tMean: 37.76\tMin: 36.03\tMax: 39.25\tDuration: 116.02\n",
      "Episode 86\tTotal Average Score: 27.96\tMean: 38.29\tMin: 36.64\tMax: 39.60\tDuration: 115.01\n",
      "Episode 87\tTotal Average Score: 28.08\tMean: 38.64\tMin: 36.80\tMax: 39.65\tDuration: 115.24\n",
      "Episode 88\tTotal Average Score: 28.21\tMean: 38.94\tMin: 37.86\tMax: 39.61\tDuration: 115.02\n",
      "Episode 89\tTotal Average Score: 28.31\tMean: 37.75\tMin: 34.16\tMax: 39.32\tDuration: 115.16\n",
      "Episode 90\tTotal Average Score: 28.41\tMean: 37.11\tMin: 34.94\tMax: 38.36\tDuration: 115.84\n",
      "Episode 90\tTotal Average Score: 28.41\n",
      "Episode 91\tTotal Average Score: 28.52\tMean: 38.05\tMin: 35.55\tMax: 39.49\tDuration: 112.65\n",
      "Episode 92\tTotal Average Score: 28.62\tMean: 37.81\tMin: 34.65\tMax: 39.54\tDuration: 112.54\n",
      "Episode 93\tTotal Average Score: 28.72\tMean: 37.82\tMin: 35.81\tMax: 39.61\tDuration: 113.32\n",
      "Episode 94\tTotal Average Score: 28.82\tMean: 38.38\tMin: 36.62\tMax: 39.51\tDuration: 113.75\n",
      "Episode 95\tTotal Average Score: 28.92\tMean: 38.59\tMin: 37.44\tMax: 39.63\tDuration: 112.70\n",
      "Episode 96\tTotal Average Score: 29.02\tMean: 38.47\tMin: 36.68\tMax: 39.56\tDuration: 112.35\n",
      "Episode 97\tTotal Average Score: 29.11\tMean: 37.53\tMin: 35.69\tMax: 39.10\tDuration: 111.78\n",
      "Episode 98\tTotal Average Score: 29.20\tMean: 37.62\tMin: 35.94\tMax: 39.18\tDuration: 112.74\n",
      "Episode 99\tTotal Average Score: 29.29\tMean: 38.24\tMin: 36.62\tMax: 39.57\tDuration: 113.01\n",
      "Episode 100\tTotal Average Score: 29.37\tMean: 37.24\tMin: 34.45\tMax: 39.22\tDuration: 113.71\n",
      "Episode 100\tTotal Average Score: 29.37\n",
      "Episode 101\tTotal Average Score: 29.74\tMean: 37.60\tMin: 35.15\tMax: 38.93\tDuration: 113.80\n",
      "Episode 102\tTotal Average Score: 30.12\tMean: 37.59\tMin: 35.12\tMax: 39.16\tDuration: 114.08\n",
      "Problem Solved after 102 epsisodes!! Total Average score: 30.12\n"
     ]
    }
   ],
   "source": [
    "def ddpg(n_episodes=2000, max_t=1000, print_every=10, learn_every=20, num_learn=10, goal_score=30):\n",
    "    total_scores_deque = deque(maxlen=100)\n",
    "    total_scores = []\n",
    "    \n",
    "    for i_episode in range(1, n_episodes+1):\n",
    "        # Reset Env and Agent\n",
    "        env_info = env.reset(train_mode=train_mode)[brain_name]       # reset the environment    \n",
    "        states = env_info.vector_observations                   # get the current state (for each agent)\n",
    "        scores = np.zeros(num_agents)                            # initialize the score (for each agent)\n",
    "        agent.reset()\n",
    "        \n",
    "        start_time = time.time()\n",
    "        \n",
    "        for t in range(max_t):\n",
    "            actions = agent.act(states)\n",
    "            \n",
    "            env_info = env.step(actions)[brain_name]            # send all actions to the environment\n",
    "            next_states = env_info.vector_observations          # get next state (for each agent)\n",
    "            rewards = env_info.rewards                          # get reward (for each agent)\n",
    "            \n",
    "            dones = env_info.local_done                         # see if episode finished\n",
    "            \n",
    "            for state, action, reward, next_state, done in zip(states, actions, rewards, next_states, dones):\n",
    "                agent.step(state, action, reward, next_state, done) # send actions to the agent\n",
    "            \n",
    "            scores += env_info.rewards                           # update the score (for each agent)\n",
    "            states = next_states                                # roll over states to next time step\n",
    "            \n",
    "            if t%learn_every == 0:\n",
    "                for _ in range(num_learn):\n",
    "                    agent.start_learn()\n",
    "            \n",
    "            if np.any(dones):                                   # exit loop if episode finished\n",
    "                break\n",
    "    \n",
    "        mean_score = np.mean(scores)\n",
    "        min_score = np.min(scores)\n",
    "        max_score = np.max(scores)\n",
    "        total_scores_deque.append(mean_score)\n",
    "        total_scores.append(mean_score)\n",
    "        total_average_score = np.mean(total_scores_deque)\n",
    "        duration = time.time() - start_time\n",
    "        \n",
    "        print('\\rEpisode {}\\tTotal Average Score: {:.2f}\\tMean: {:.2f}\\tMin: {:.2f}\\tMax: {:.2f}\\tDuration: {:.2f}'\n",
    "              .format(i_episode, total_average_score, mean_score, min_score, max_score, duration))\n",
    "\n",
    "        if i_episode % print_every == 0:\n",
    "            torch.save(agent.actor_local.state_dict(), 'checkpoint_actor.pth')\n",
    "            torch.save(agent.critic_local.state_dict(), 'checkpoint_critic.pth')\n",
    "            print('\\rEpisode {}\\tTotal Average Score: {:.2f}'.format(i_episode, total_average_score))  \n",
    "            \n",
    "        if total_average_score >= goal_score and i_episode >= 100:\n",
    "            print('Problem Solved after {} epsisodes!! Total Average score: {:.2f}'.format(i_episode, total_average_score))\n",
    "            torch.save(agent.actor_local.state_dict(), 'checkpoint_actor.pth')\n",
    "            torch.save(agent.critic_local.state_dict(), 'checkpoint_critic.pth')\n",
    "            break\n",
    "    \n",
    "    return total_scores\n",
    "\n",
    "scores = ddpg()"
   ]
  },
  {
   "cell_type": "code",
   "execution_count": 13,
   "metadata": {},
   "outputs": [],
   "source": [
    "# save the trained model!ㅇ\n",
    "torch.save(agent.actor_local.state_dict(), 'ddpg-20agent-actor.pt')\n",
    "torch.save(agent.critic_local.state_dict(), 'ddpg-20agent-critic.pt')"
   ]
  },
  {
   "cell_type": "code",
   "execution_count": 14,
   "metadata": {},
   "outputs": [
    {
     "data": {
      "image/png": "[encoded data removed]",
      "text/plain": [
       "<matplotlib.figure.Figure at 0x7f7442f6c160>"
      ]
     },
     "metadata": {
      "needs_background": "light"
     },
     "output_type": "display_data"
    }
   ],
   "source": [
    "# plot the scores\n",
    "fig = plt.figure()\n",
    "ax = fig.add_subplot(111)\n",
    "plt.plot(np.arange(len(scores)), scores)\n",
    "plt.ylabel('Score')\n",
    "plt.xlabel('Episode #')\n",
    "plt.show()"
   ]
  },
  {
   "cell_type": "code",
   "execution_count": 14,
   "metadata": {},
   "outputs": [],
   "source": [
    "env.close()"
   ]
  },
  {
   "cell_type": "markdown",
   "metadata": {},
   "source": [
    "## Future Impovements\n",
    "In this project, I solve the problem using DDPG method. But I can compose more methods to improve the agent. \n",
    "- A2C\n",
    "- A3C: Learn multiple agents asynchrously, in parallel, \n",
    "- GAE: I train the agent 10 times every 20 steps. Without these fixed steps, GAE is a way to learn in various steps."
   ]
  }
 ],
 "metadata": {
  "kernelspec": {
   "display_name": "Python 3",
   "language": "python",
   "name": "python3"
  },
  "language_info": {
   "codemirror_mode": {
    "name": "ipython",
    "version": 3
   },
   "file_extension": ".py",
   "mimetype": "text/x-python",
   "name": "python",
   "nbconvert_exporter": "python",
   "pygments_lexer": "ipython3",
   "version": "3.6.10"
  }
 },
 "nbformat": 4,
 "nbformat_minor": 2
}
